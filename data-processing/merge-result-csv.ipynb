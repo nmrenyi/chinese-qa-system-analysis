{
 "cells": [
  {
   "cell_type": "markdown",
   "metadata": {},
   "source": [
    "# Merge results from Google and Microsoft translation then analyze"
   ]
  },
  {
   "cell_type": "code",
   "execution_count": null,
   "metadata": {},
   "outputs": [],
   "source": [
    "import pandas as pd"
   ]
  },
  {
   "cell_type": "code",
   "execution_count": null,
   "metadata": {},
   "outputs": [],
   "source": [
    "google_df = pd.read_csv('../dataset/stanford-squad/result/sampled-top-50-dev-v2.0-translated-google-random-response-no-nan.csv', sep='\\t')\n",
    "ms_df = pd.read_csv('../dataset/stanford-squad/result/sampled-top-50-dev-v2.0-translated-ms-random-paraphrased-response-no-nan.csv', sep='\\t')\n",
    "google_df['translation_engine'] = 'google'\n",
    "ms_df['translation_engine'] = 'ms-paraphrased'"
   ]
  },
  {
   "cell_type": "code",
   "execution_count": null,
   "metadata": {},
   "outputs": [],
   "source": [
    "google_df[google_df['question_id'] == '56be4db0acb8001400a502ec']"
   ]
  },
  {
   "cell_type": "code",
   "execution_count": null,
   "metadata": {},
   "outputs": [],
   "source": [
    "ms_df"
   ]
  },
  {
   "cell_type": "code",
   "execution_count": null,
   "metadata": {},
   "outputs": [],
   "source": [
    "raw_df = pd.concat([google_df, ms_df], ignore_index=True)\n",
    "raw_df.info()"
   ]
  },
  {
   "cell_type": "code",
   "execution_count": null,
   "metadata": {},
   "outputs": [],
   "source": [
    "raw_df = raw_df[['translation_engine', 'question_type', 'question', 'question_zh-cn', 'answer_text',\n",
    "       'answer_start', 'answer_context', 'question_id', 'title', 'baidu',\n",
    "       'yuan1.0', 'zhiyuan']].sort_values(by=['question_type', 'translation_engine'])\n",
    "raw_df.head()"
   ]
  },
  {
   "cell_type": "code",
   "execution_count": null,
   "metadata": {},
   "outputs": [],
   "source": [
    "raw_df[raw_df['question_id'] == '57268a37f1498d1400e8e33d']"
   ]
  },
  {
   "cell_type": "code",
   "execution_count": null,
   "metadata": {},
   "outputs": [],
   "source": [
    "BASE = 1\n",
    "r = range(BASE, BASE + len(raw_df['question_id'].unique()))\n",
    "qid2index = {q_id: i for i, q_id in zip(r, raw_df['question_id'].unique())}\n",
    "raw_df['question_index'] = raw_df['question_id'].apply(lambda x: qid2index[x])\n",
    "raw_df = raw_df.sort_values(by=['question_index', 'translation_engine']).reset_index(drop=True)\n",
    "df = raw_df[['question_index', 'translation_engine', 'question_type', 'question', 'question_zh-cn', 'answer_text', 'answer_start', 'answer_context', 'question_id', 'title', 'baidu', 'yuan1.0', 'zhiyuan']]\n",
    "df"
   ]
  },
  {
   "cell_type": "code",
   "execution_count": null,
   "metadata": {},
   "outputs": [],
   "source": [
    "df[df['translation_engine'] == 'google']['question_type'].value_counts().sort_index()"
   ]
  },
  {
   "cell_type": "code",
   "execution_count": null,
   "metadata": {},
   "outputs": [],
   "source": [
    "df['baidu_acc'] = ''\n",
    "df['yuan1.0_acc'] = ''\n",
    "df['zhiyuan_acc'] = ''\n",
    "df.columns"
   ]
  },
  {
   "cell_type": "code",
   "execution_count": null,
   "metadata": {},
   "outputs": [],
   "source": [
    "out_df = df[['question_index', 'translation_engine', 'question_type', 'question',\n",
    "       'question_zh-cn', 'answer_text', 'baidu', 'baidu_acc', 'yuan1.0', 'yuan1.0_acc', 'zhiyuan',\n",
    "       'zhiyuan_acc', 'answer_start', 'answer_context',\n",
    "       'question_id', 'title']]\n",
    "out_df"
   ]
  },
  {
   "cell_type": "code",
   "execution_count": null,
   "metadata": {},
   "outputs": [],
   "source": [
    "out_df.to_csv('../dataset/labelling/pre-labelled.tsv', index=False, sep='\\t')"
   ]
  },
  {
   "cell_type": "code",
   "execution_count": null,
   "metadata": {},
   "outputs": [],
   "source": []
  }
 ],
 "metadata": {
  "kernelspec": {
   "display_name": "Python 3.10.6 (conda)",
   "language": "python",
   "name": "python3"
  },
  "language_info": {
   "codemirror_mode": {
    "name": "ipython",
    "version": 3
   },
   "file_extension": ".py",
   "mimetype": "text/x-python",
   "name": "python",
   "nbconvert_exporter": "python",
   "pygments_lexer": "ipython3",
   "version": "3.10.6"
  },
  "orig_nbformat": 4,
  "vscode": {
   "interpreter": {
    "hash": "1bed866745916d9eebc0a0e4d3271ae27470b68d3391343db43013402210c431"
   }
  }
 },
 "nbformat": 4,
 "nbformat_minor": 2
}
