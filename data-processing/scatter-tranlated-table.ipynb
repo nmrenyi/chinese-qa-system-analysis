{
 "cells": [
  {
   "cell_type": "code",
   "execution_count": null,
   "metadata": {},
   "outputs": [],
   "source": [
    "import pandas as pd"
   ]
  },
  {
   "cell_type": "code",
   "execution_count": null,
   "metadata": {},
   "outputs": [],
   "source": [
    "tranlation_engine = 'google'\n",
    "df = pd.read_csv('../dataset/stanford-squad/table/sampled-top-50-dev-v2.0-translated-{}.csv'.format(tranlation_engine), sep='\\t')[['question_type', 'question', 'question_zh-cn', 'answer_text', 'answer_start', 'answer_context', 'question_id', 'title']]\n",
    "df.info()"
   ]
  },
  {
   "cell_type": "code",
   "execution_count": null,
   "metadata": {},
   "outputs": [],
   "source": [
    "df.columns"
   ]
  },
  {
   "cell_type": "code",
   "execution_count": null,
   "metadata": {},
   "outputs": [],
   "source": [
    "df.sample(frac=1).head(10)"
   ]
  },
  {
   "cell_type": "code",
   "execution_count": null,
   "metadata": {},
   "outputs": [],
   "source": [
    "random_df = df.sample(frac=1, random_state=73)  # hats off to Shiguang Guo from DSCT, THU and Sheldon in the Big Bang Theory"
   ]
  },
  {
   "cell_type": "code",
   "execution_count": null,
   "metadata": {},
   "outputs": [],
   "source": [
    "random_df.to_csv('../dataset/stanford-squad/table/sampled-top-50-dev-v2.0-translated-{}-random.csv'.format(tranlation_engine), sep='\\t', index=False)"
   ]
  }
 ],
 "metadata": {
  "kernelspec": {
   "display_name": "Python 3.10.6 (conda)",
   "language": "python",
   "name": "python3"
  },
  "language_info": {
   "codemirror_mode": {
    "name": "ipython",
    "version": 3
   },
   "file_extension": ".py",
   "mimetype": "text/x-python",
   "name": "python",
   "nbconvert_exporter": "python",
   "pygments_lexer": "ipython3",
   "version": "3.10.6"
  },
  "orig_nbformat": 4,
  "vscode": {
   "interpreter": {
    "hash": "1bed866745916d9eebc0a0e4d3271ae27470b68d3391343db43013402210c431"
   }
  }
 },
 "nbformat": 4,
 "nbformat_minor": 2
}
