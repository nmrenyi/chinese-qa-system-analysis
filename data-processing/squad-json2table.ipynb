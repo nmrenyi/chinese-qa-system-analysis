{
 "cells": [
  {
   "cell_type": "markdown",
   "metadata": {},
   "source": [
    "# Change Original SQUaD JSON to a CSV table"
   ]
  },
  {
   "cell_type": "code",
   "execution_count": null,
   "metadata": {},
   "outputs": [],
   "source": [
    "import pandas as pd\n",
    "import json"
   ]
  },
  {
   "cell_type": "code",
   "execution_count": null,
   "metadata": {},
   "outputs": [],
   "source": [
    "with open('../dataset/stanford-squad/raw/dev-v2.0.json', mode='r') as f:\n",
    "    data: dict = json.load(f)"
   ]
  },
  {
   "cell_type": "code",
   "execution_count": null,
   "metadata": {},
   "outputs": [],
   "source": [
    "themes: list = data['data']"
   ]
  },
  {
   "cell_type": "code",
   "execution_count": null,
   "metadata": {},
   "outputs": [],
   "source": [
    "qa_list = []\n",
    "for theme in themes:\n",
    "    title: str = theme['title']\n",
    "    paragraphs: list = theme['paragraphs']\n",
    "    for paragraph in paragraphs:\n",
    "        context: str = paragraph['context']\n",
    "        qas: list = paragraph['qas']\n",
    "        for qa in qas:\n",
    "            question: str = qa['question']\n",
    "            id: str = qa['id']\n",
    "            answers: list = qa['answers']\n",
    "            for answer in answers:\n",
    "                answer_text: str = answer['text']\n",
    "                answer_start: int = answer['answer_start']\n",
    "                qa_list.append({\n",
    "                    'question_id': id,\n",
    "                    'title': title,\n",
    "                    'answer_context': context,\n",
    "                    'question': question,\n",
    "                    'answer_text': answer_text,\n",
    "                    'answer_start': answer_start,\n",
    "                })\n",
    "                break  # only use the first answer, since all answers are identical in this dataset, if the answer exists\n"
   ]
  },
  {
   "cell_type": "code",
   "execution_count": null,
   "metadata": {},
   "outputs": [],
   "source": [
    "df = pd.DataFrame(qa_list)\n",
    "df.info()"
   ]
  },
  {
   "cell_type": "code",
   "execution_count": null,
   "metadata": {},
   "outputs": [],
   "source": [
    "df.head()"
   ]
  },
  {
   "cell_type": "code",
   "execution_count": null,
   "metadata": {},
   "outputs": [],
   "source": [
    "def get_question_type(question: str) -> int:\n",
    "    type_dict = {\n",
    "        'what': 1,\n",
    "        'when': 2,\n",
    "        'where': 3,\n",
    "        'who': 4,\n",
    "        'which': 5,\n",
    "    }\n",
    "    for key in type_dict.keys():\n",
    "        if key in question.lower():\n",
    "            return type_dict[key]\n",
    "    return 0  # unknown type\n",
    "\n",
    "df['question_type'] = df['question'].apply(get_question_type)"
   ]
  },
  {
   "cell_type": "code",
   "execution_count": null,
   "metadata": {},
   "outputs": [],
   "source": [
    "df"
   ]
  },
  {
   "cell_type": "code",
   "execution_count": null,
   "metadata": {},
   "outputs": [],
   "source": [
    "df['question_type'].value_counts()"
   ]
  },
  {
   "cell_type": "code",
   "execution_count": null,
   "metadata": {},
   "outputs": [],
   "source": [
    "df = df[df['question_type'] != 0].reset_index(drop=True)\n",
    "df = df[['question_type', 'question', 'answer_text', 'answer_start', 'answer_context', 'question_id', 'title']]\n",
    "df.info()"
   ]
  },
  {
   "cell_type": "code",
   "execution_count": null,
   "metadata": {},
   "outputs": [],
   "source": [
    "df"
   ]
  },
  {
   "cell_type": "code",
   "execution_count": null,
   "metadata": {},
   "outputs": [],
   "source": [
    "df.to_csv('../dataset/stanford-squad/table/dev-v2.0.csv', sep='\\t', index=False)"
   ]
  },
  {
   "cell_type": "code",
   "execution_count": null,
   "metadata": {},
   "outputs": [],
   "source": [
    "export GOOGLE_APPLICATION_CREDENTIALS=key.json"
   ]
  }
 ],
 "metadata": {
  "kernelspec": {
   "display_name": "Python 3.10.6 (conda)",
   "language": "python",
   "name": "python3"
  },
  "language_info": {
   "codemirror_mode": {
    "name": "ipython",
    "version": 3
   },
   "file_extension": ".py",
   "mimetype": "text/x-python",
   "name": "python",
   "nbconvert_exporter": "python",
   "pygments_lexer": "ipython3",
   "version": "3.10.6"
  },
  "orig_nbformat": 4,
  "vscode": {
   "interpreter": {
    "hash": "1bed866745916d9eebc0a0e4d3271ae27470b68d3391343db43013402210c431"
   }
  }
 },
 "nbformat": 4,
 "nbformat_minor": 2
}
